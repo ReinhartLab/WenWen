{
 "cells": [
  {
   "cell_type": "code",
   "execution_count": null,
   "id": "e4c177b3-adbd-4ba3-bc31-dbf569378bd1",
   "metadata": {},
   "outputs": [],
   "source": [
    "freeview -v /projectnb2/viscog01/Wen/IBL_TI_fMRI/BIDS/derivatives/freesurfer/sub-231101IBLS02/mri/T1.mgz -l p/projectnb2/viscog01/Wen/IBL_TI_fMRI/BIDS/derivatives/freesurfer/sub-231101IBLS02/label/lh.MT_exvivo.label\n"
   ]
  },
  {
   "cell_type": "markdown",
   "id": "317d4319-6bd9-467d-a0a8-93283d64fb6d",
   "metadata": {
    "tags": []
   },
   "source": [
    "import nibabel as nib\n",
    "from nilearn import plotting\n",
    "\n",
    "# Load the FreeSurfer label file\n",
    "label_file = '/projectnb2/viscog01/Wen/IBL_TI_fMRI/BIDS/derivatives/freesurfer/sub-231101IBLS02/label/lh.MT_exvivo.label'\n",
    "label_data = nib.freesurfer.read_label(label_file)\n",
    "print(label_data.shape)\n",
    "# Create an empty volume with the same shape as the FreeSurfer MRI data\n",
    "# This is just a placeholder, and you might need to replace it with the actual MRI data\n",
    "# For example, you can load the MRI data using nib.load('path/to/T1.mgz')\n",
    "empty_vol = nib.Nifti1Image(label_data.get_data(), affine=None)\n",
    "\n",
    "# Plot the label on top of the MRI data\n",
    "plotting.plot_roi(roi_img=empty_vol, bg_img=None, cut_coords=None, display_mode='x', colorbar=True, title='FreeSurfer Label')\n",
    "\n",
    "# Show the plot\n",
    "plotting.show()"
   ]
  },
  {
   "cell_type": "code",
   "execution_count": null,
   "id": "e68fb13e-1963-4a2c-9ae9-415ec8c1e430",
   "metadata": {},
   "outputs": [],
   "source": []
  },
  {
   "cell_type": "code",
   "execution_count": 4,
   "id": "3dca93e2-3d05-441c-b4c0-92d119959798",
   "metadata": {
    "tags": []
   },
   "outputs": [
    {
     "ename": "AttributeError",
     "evalue": "module 'nibabel.freesurfer.io' has no attribute 'read_geometry_info'",
     "output_type": "error",
     "traceback": [
      "\u001b[0;31m---------------------------------------------------------------------------\u001b[0m",
      "\u001b[0;31mAttributeError\u001b[0m                            Traceback (most recent call last)",
      "Cell \u001b[0;32mIn[4], line 10\u001b[0m\n\u001b[1;32m      7\u001b[0m label_data \u001b[38;5;241m=\u001b[39m nib\u001b[38;5;241m.\u001b[39mfreesurfer\u001b[38;5;241m.\u001b[39mread_label(label_file)\n\u001b[1;32m      9\u001b[0m \u001b[38;5;66;03m# Create a binary image from the label data\u001b[39;00m\n\u001b[0;32m---> 10\u001b[0m header \u001b[38;5;241m=\u001b[39m \u001b[43mnib\u001b[49m\u001b[38;5;241;43m.\u001b[39;49m\u001b[43mfreesurfer\u001b[49m\u001b[38;5;241;43m.\u001b[39;49m\u001b[43mio\u001b[49m\u001b[38;5;241;43m.\u001b[39;49m\u001b[43mread_geometry_info\u001b[49m(label_file)\n\u001b[1;32m     11\u001b[0m binary_img \u001b[38;5;241m=\u001b[39m nib\u001b[38;5;241m.\u001b[39mfreesurfer\u001b[38;5;241m.\u001b[39mmghformat\u001b[38;5;241m.\u001b[39mwrite_volume_label(label_data, label_file, header)\n\u001b[1;32m     13\u001b[0m \u001b[38;5;66;03m# Plot the binary image using Nilearn's plot_roi\u001b[39;00m\n",
      "\u001b[0;31mAttributeError\u001b[0m: module 'nibabel.freesurfer.io' has no attribute 'read_geometry_info'"
     ]
    }
   ],
   "source": [
    "# Load the FreeSurfer label file\n",
    "# label_file = '/projectnb2/viscog01/Wen/IBL_TI_fMRI/BIDS/derivatives/freesurfer/sub-231101IBLS02/label/lh.aparc.annot'\n",
    "label_file = '/projectnb2/viscog01/Wen/IBL_TI_fMRI/BIDS/derivatives/freesurfer/sub-231101IBLS02/label/lh.MT_exvivo.label'\n",
    "label_data = nib.freesurfer.read_label(label_file)\n",
    "\n",
    "# Create a binary image from the label data\n",
    "header = nib.freesurfer.io.read_geometry_info(label_file)\n",
    "binary_img = nib.freesurfer.mghformat.write_volume_label(label_data, label_file, header)\n",
    "\n",
    "# Plot the binary image using Nilearn's plot_roi\n",
    "plotting.plot_roi(binary_img, title='FreeSurfer lh.MT_exvivo.label', display_mode='ortho', cut_coords=None, colorbar=True)\n",
    "\n",
    "# Display the plot\n",
    "plotting.show()"
   ]
  }
 ],
 "metadata": {
  "kernelspec": {
   "display_name": "Python 3 (ipykernel)",
   "language": "python",
   "name": "python3"
  },
  "language_info": {
   "codemirror_mode": {
    "name": "ipython",
    "version": 3
   },
   "file_extension": ".py",
   "mimetype": "text/x-python",
   "name": "python",
   "nbconvert_exporter": "python",
   "pygments_lexer": "ipython3",
   "version": "3.10.12"
  }
 },
 "nbformat": 4,
 "nbformat_minor": 5
}
