{
 "cells": [
  {
   "cell_type": "code",
   "execution_count": 1,
   "id": "aac76bd5-33ad-4051-bab0-6410758f8f48",
   "metadata": {},
   "outputs": [],
   "source": [
    "# %matplotlib inline\n",
    "import matplotlib\n",
    "import matplotlib.pyplot as plt\n",
    "import nibabel as nib\n",
    "from nilearn import plotting\n",
    "from nilearn.image import load_img, math_img\n",
    "from nilearn.glm.first_level import FirstLevelModel\n",
    "import pandas as pd\n",
    "import numpy as np\n",
    "import os\n",
    "from os.path import join\n",
    "import glob\n",
    "from scipy.stats import norm\n",
    "from bids import BIDSLayout"
   ]
  },
  {
   "cell_type": "code",
   "execution_count": 2,
   "id": "d6b1248e-7729-4fde-a9dd-4dcadee12a20",
   "metadata": {},
   "outputs": [
    {
     "name": "stdout",
     "output_type": "stream",
     "text": [
      "BIDS Layout: .../viscog01/Wen/IBL_TI_fMRI/BIDS | Subjects: 3 | Sessions: 3 | Runs: 18\n"
     ]
    }
   ],
   "source": [
    "# define directory\n",
    "myDir = {\n",
    "    'bids': '/projectnb2/viscog01/Wen/IBL_TI_fMRI/BIDS/',\n",
    "    'prep': '/projectnb2/viscog01/Wen/IBL_TI_fMRI/BIDS/derivatives/',\n",
    "    'fs': '/projectnb2/viscog01/Wen/IBL_TI_fMRI/BIDS/derivatives/freesurfer/',\n",
    "    'fig': '/projectnb2/viscog01/Wen/IBL_TI_fMRI/Figs/',\n",
    "    'res': '/projectnb2/viscog01/Wen/IBL_TI_fMRI/Results/',\n",
    "    'ana': '/projectnb2/viscog01/Wen/IBL_TI_fMRI/Ana_code/',\n",
    "    'templates': '/projectnb2/viscog01/Wen/IBL_TI_fMRI/Ana_code/templates/',\n",
    "}\n",
    "os.environ['SUBJECTS_DIR'] = '/projectnb2/viscog01/Wen/IBL_TI_fMRI/BIDS/derivatives/freesurfer'\n",
    "\n",
    "layout = BIDSLayout(myDir['bids'])\n",
    "print(layout)\n",
    "all_subs = layout.get_subjects()\n",
    "# all_subs"
   ]
  },
  {
   "cell_type": "code",
   "execution_count": 3,
   "id": "9a925947-de47-4239-9fa8-c0397acc8780",
   "metadata": {},
   "outputs": [],
   "source": [
    "\n",
    "subj = open(join(myDir['bids'],'subj_single.txt'), 'r').readlines()\n",
    "subj=subj[0].strip()\n",
    "\n",
    "# subj = 'S02'\n",
    "subj_name= [element for element in all_subs if subj in element] # full name of this subj\n",
    "# print(subj_name)\n",
    "subj_name = subj_name[0]\n",
    "subj_dir = join(myDir['prep'], f'sub-{subj_name}',f'ses-{subj_name}')\n",
    "# print(subj_dir)\n"
   ]
  },
  {
   "cell_type": "code",
   "execution_count": null,
   "id": "b42d8f22-d68b-4be0-9e6f-2f026b6f1dac",
   "metadata": {},
   "outputs": [],
   "source": [
    "func_task = 'IBL'\n",
    "# inspace = 'T1w' # perform glm in individual space\n",
    "inspace = 'MNI152NLin2009cAsym' # perform glm in ？ space\n",
    "\n",
    "img_name = glob.glob(join(subj_dir,'func', f'*{func_task}*{inspace}*desc-preproc_bold.nii.gz'))\n",
    "# print(img_name)\n",
    "fmri_img = load_img(img_name[0])\n",
    "tr = fmri_img.header.get_zooms()[3]\n",
    "vox_size = fmri_img.header.get_zooms()[0]\n",
    "# print(tr)\n",
    "\n",
    "from nilearn.image import mean_img\n",
    "mean_img = mean_img(fmri_img)\n",
    "\n",
    "img_name = glob.glob(join(subj_dir,'func', f'*{func_task}*{inspace}*desc-brain_mask.nii.gz'))\n",
    "fmri_mask = load_img(img_name[0])\n"
   ]
  }
 ],
 "metadata": {
  "kernelspec": {
   "display_name": "Python 3 (ipykernel)",
   "language": "python",
   "name": "python3"
  },
  "language_info": {
   "codemirror_mode": {
    "name": "ipython",
    "version": 3
   },
   "file_extension": ".py",
   "mimetype": "text/x-python",
   "name": "python",
   "nbconvert_exporter": "python",
   "pygments_lexer": "ipython3",
   "version": "3.10.12"
  }
 },
 "nbformat": 4,
 "nbformat_minor": 5
}
