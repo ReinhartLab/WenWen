{
 "cells": [
  {
   "cell_type": "markdown",
   "metadata": {},
   "source": [
    "\n",
    "# Simple example of two-session fMRI model fitting\n",
    "\n",
    "Here, we will go through a full step-by-step example of fitting a :term:`GLM`\n",
    "to experimental data and visualizing the results.\n",
    "This is done on two runs of one subject of the FIAC dataset.\n",
    "\n",
    "For details on the data, please see:\n",
    "\n",
    "Dehaene-Lambertz G, Dehaene S, Anton JL, Campagne A, Ciuciu P, Dehaene\n",
    "G, Denghien I, Jobert A, LeBihan D, Sigman M, Pallier C, Poline\n",
    "JB. Functional segregation of cortical language areas by sentence\n",
    "repetition. Hum Brain Mapp. 2006: 27:360--371.\n",
    "https://www.ncbi.nlm.nih.gov/pmc/articles/PMC6871319/\n",
    "\n",
    "More specifically:\n",
    "\n",
    "1. A sequence of :term:`fMRI` volumes is loaded.\n",
    "2. A design matrix describing all the effects related to the data is computed.\n",
    "3. A mask of the useful brain volume is computed.\n",
    "4. A :term:`GLM` is applied to the dataset (effect/covariance,\n",
    "   then contrast estimation).\n",
    "\n",
    "Technically, this example shows how to handle two sessions that contain the\n",
    "same experimental conditions. The model directly returns a fixed effect of the\n",
    "statistics across the two sessions.\n"
   ]
  },
  {
   "cell_type": "markdown",
   "metadata": {},
   "source": [
    "Create a write directory to work,\n",
    "it will be a 'results' subdirectory of the current directory.\n",
    "\n"
   ]
  },
  {
   "cell_type": "code",
   "execution_count": 1,
   "metadata": {
    "collapsed": false,
    "jupyter": {
     "outputs_hidden": false
    }
   },
   "outputs": [],
   "source": [
    "from os import getcwd, mkdir, path\n",
    "\n",
    "write_dir = path.join(getcwd(), 'results')\n",
    "if not path.exists(write_dir):\n",
    "    mkdir(write_dir)"
   ]
  },
  {
   "cell_type": "markdown",
   "metadata": {},
   "source": [
    "## Prepare data and analysis parameters\n",
    "\n",
    "Note that there are two sessions.\n",
    "\n"
   ]
  },
  {
   "cell_type": "code",
   "execution_count": null,
   "metadata": {
    "collapsed": false,
    "jupyter": {
     "outputs_hidden": false
    }
   },
   "outputs": [],
   "source": [
    "from nilearn.datasets import func\n",
    "\n",
    "data = func.fetch_fiac_first_level()\n",
    "fmri_img = [data['func1'], data['func2']]"
   ]
  },
  {
   "cell_type": "code",
   "execution_count": 17,
   "metadata": {
    "collapsed": false,
    "jupyter": {
     "outputs_hidden": false
    }
   },
   "outputs": [
    {
     "data": {
      "text/plain": [
       "(3.0000024, 3.0000038, 4.0, 1.0)"
      ]
     },
     "execution_count": 17,
     "metadata": {},
     "output_type": "execute_result"
    }
   ],
   "source": [
    "from nilearn.image import load_img, math_img\n",
    "\n",
    "tmp=load_img(fmri_img[0])\n",
    "tmp.header.get_zooms()"
   ]
  },
  {
   "cell_type": "markdown",
   "metadata": {},
   "source": [
    "Create a mean image for plotting purpose.\n",
    "\n"
   ]
  },
  {
   "cell_type": "code",
   "execution_count": 3,
   "metadata": {
    "collapsed": false,
    "jupyter": {
     "outputs_hidden": false
    }
   },
   "outputs": [],
   "source": [
    "from nilearn.image import mean_img\n",
    "\n",
    "mean_img_ = mean_img(fmri_img[0])"
   ]
  },
  {
   "cell_type": "markdown",
   "metadata": {},
   "source": [
    "The design matrices were pre-computed, we simply put them in a list of\n",
    "DataFrames.\n",
    "\n"
   ]
  },
  {
   "cell_type": "code",
   "execution_count": 4,
   "metadata": {
    "collapsed": false,
    "jupyter": {
     "outputs_hidden": false
    }
   },
   "outputs": [],
   "source": [
    "import numpy as np\n",
    "import pandas as pd\n",
    "\n",
    "design_files = [data['design_matrix1'], data['design_matrix2']]\n",
    "design_matrices = [pd.DataFrame(np.load(df)['X']) for df in design_files]"
   ]
  },
  {
   "cell_type": "code",
   "execution_count": 20,
   "metadata": {},
   "outputs": [
    {
     "data": {
      "text/html": [
       "<div>\n",
       "<style scoped>\n",
       "    .dataframe tbody tr th:only-of-type {\n",
       "        vertical-align: middle;\n",
       "    }\n",
       "\n",
       "    .dataframe tbody tr th {\n",
       "        vertical-align: top;\n",
       "    }\n",
       "\n",
       "    .dataframe thead th {\n",
       "        text-align: right;\n",
       "    }\n",
       "</style>\n",
       "<table border=\"1\" class=\"dataframe\">\n",
       "  <thead>\n",
       "    <tr style=\"text-align: right;\">\n",
       "      <th></th>\n",
       "      <th>0</th>\n",
       "      <th>1</th>\n",
       "      <th>2</th>\n",
       "      <th>3</th>\n",
       "      <th>4</th>\n",
       "      <th>5</th>\n",
       "      <th>6</th>\n",
       "      <th>7</th>\n",
       "      <th>8</th>\n",
       "      <th>9</th>\n",
       "      <th>10</th>\n",
       "      <th>11</th>\n",
       "      <th>12</th>\n",
       "    </tr>\n",
       "  </thead>\n",
       "  <tbody>\n",
       "    <tr>\n",
       "      <th>0</th>\n",
       "      <td>1.180236e-14</td>\n",
       "      <td>-7.781773e-14</td>\n",
       "      <td>2.827377e-14</td>\n",
       "      <td>7.678016e-14</td>\n",
       "      <td>5.187849e-15</td>\n",
       "      <td>6.488857</td>\n",
       "      <td>6.488637</td>\n",
       "      <td>6.487979</td>\n",
       "      <td>6.486882</td>\n",
       "      <td>6.485346</td>\n",
       "      <td>6.483372</td>\n",
       "      <td>6.480959</td>\n",
       "      <td>6.478107</td>\n",
       "    </tr>\n",
       "    <tr>\n",
       "      <th>1</th>\n",
       "      <td>-8.559950e-15</td>\n",
       "      <td>-7.055474e-14</td>\n",
       "      <td>-1.400719e-14</td>\n",
       "      <td>6.847960e-14</td>\n",
       "      <td>1.099824e-13</td>\n",
       "      <td>6.488857</td>\n",
       "      <td>6.487364</td>\n",
       "      <td>6.482886</td>\n",
       "      <td>6.475424</td>\n",
       "      <td>6.464983</td>\n",
       "      <td>6.451567</td>\n",
       "      <td>6.435182</td>\n",
       "      <td>6.415836</td>\n",
       "    </tr>\n",
       "    <tr>\n",
       "      <th>2</th>\n",
       "      <td>-2.879256e-14</td>\n",
       "      <td>-6.640446e-14</td>\n",
       "      <td>1.010334e-13</td>\n",
       "      <td>5.758512e-14</td>\n",
       "      <td>5.162890e+00</td>\n",
       "      <td>6.488857</td>\n",
       "      <td>6.483325</td>\n",
       "      <td>6.466740</td>\n",
       "      <td>6.439130</td>\n",
       "      <td>6.400542</td>\n",
       "      <td>6.351042</td>\n",
       "      <td>6.290713</td>\n",
       "      <td>6.219659</td>\n",
       "    </tr>\n",
       "    <tr>\n",
       "      <th>3</th>\n",
       "      <td>-3.346162e-14</td>\n",
       "      <td>-3.994643e-14</td>\n",
       "      <td>3.011469e-01</td>\n",
       "      <td>5.583422e-14</td>\n",
       "      <td>2.684270e+01</td>\n",
       "      <td>6.488857</td>\n",
       "      <td>6.479215</td>\n",
       "      <td>6.450318</td>\n",
       "      <td>6.402252</td>\n",
       "      <td>6.335159</td>\n",
       "      <td>6.249240</td>\n",
       "      <td>6.144748</td>\n",
       "      <td>6.021996</td>\n",
       "    </tr>\n",
       "    <tr>\n",
       "      <th>4</th>\n",
       "      <td>5.187849e-15</td>\n",
       "      <td>-2.412350e-14</td>\n",
       "      <td>2.474755e+01</td>\n",
       "      <td>7.444563e-14</td>\n",
       "      <td>2.482296e+01</td>\n",
       "      <td>6.488857</td>\n",
       "      <td>6.470924</td>\n",
       "      <td>6.417224</td>\n",
       "      <td>6.328055</td>\n",
       "      <td>6.203909</td>\n",
       "      <td>6.045472</td>\n",
       "      <td>5.853619</td>\n",
       "      <td>5.629413</td>\n",
       "    </tr>\n",
       "    <tr>\n",
       "      <th>...</th>\n",
       "      <td>...</td>\n",
       "      <td>...</td>\n",
       "      <td>...</td>\n",
       "      <td>...</td>\n",
       "      <td>...</td>\n",
       "      <td>...</td>\n",
       "      <td>...</td>\n",
       "      <td>...</td>\n",
       "      <td>...</td>\n",
       "      <td>...</td>\n",
       "      <td>...</td>\n",
       "      <td>...</td>\n",
       "      <td>...</td>\n",
       "    </tr>\n",
       "    <tr>\n",
       "      <th>186</th>\n",
       "      <td>-1.028194e-06</td>\n",
       "      <td>-1.924004e+01</td>\n",
       "      <td>-2.536980e-14</td>\n",
       "      <td>-7.336089e-14</td>\n",
       "      <td>-1.745941e-02</td>\n",
       "      <td>6.488857</td>\n",
       "      <td>-6.477978</td>\n",
       "      <td>6.445377</td>\n",
       "      <td>-6.391163</td>\n",
       "      <td>6.315519</td>\n",
       "      <td>-6.218698</td>\n",
       "      <td>6.101024</td>\n",
       "      <td>-5.962893</td>\n",
       "    </tr>\n",
       "    <tr>\n",
       "      <th>187</th>\n",
       "      <td>-2.023353e-07</td>\n",
       "      <td>-1.945026e+01</td>\n",
       "      <td>-4.850081e-14</td>\n",
       "      <td>-5.610337e-14</td>\n",
       "      <td>-4.555051e-03</td>\n",
       "      <td>6.488857</td>\n",
       "      <td>-6.482379</td>\n",
       "      <td>6.462959</td>\n",
       "      <td>-6.430634</td>\n",
       "      <td>6.385470</td>\n",
       "      <td>-6.327558</td>\n",
       "      <td>6.257011</td>\n",
       "      <td>-6.173972</td>\n",
       "    </tr>\n",
       "    <tr>\n",
       "      <th>188</th>\n",
       "      <td>-1.678181e-08</td>\n",
       "      <td>-9.688080e+00</td>\n",
       "      <td>-2.436652e-14</td>\n",
       "      <td>-7.011521e-14</td>\n",
       "      <td>-5.444394e-04</td>\n",
       "      <td>6.488857</td>\n",
       "      <td>-6.486854</td>\n",
       "      <td>6.480847</td>\n",
       "      <td>-6.470840</td>\n",
       "      <td>6.456839</td>\n",
       "      <td>-6.438852</td>\n",
       "      <td>6.416891</td>\n",
       "      <td>-6.390969</td>\n",
       "    </tr>\n",
       "    <tr>\n",
       "      <th>189</th>\n",
       "      <td>-3.095373e-09</td>\n",
       "      <td>-4.606665e+00</td>\n",
       "      <td>-9.515953e-15</td>\n",
       "      <td>-7.169034e-14</td>\n",
       "      <td>-1.241630e-04</td>\n",
       "      <td>6.488857</td>\n",
       "      <td>-6.488419</td>\n",
       "      <td>6.487105</td>\n",
       "      <td>-6.484916</td>\n",
       "      <td>6.481852</td>\n",
       "      <td>-6.477913</td>\n",
       "      <td>6.473099</td>\n",
       "      <td>-6.467412</td>\n",
       "    </tr>\n",
       "    <tr>\n",
       "      <th>190</th>\n",
       "      <td>-2.354030e-10</td>\n",
       "      <td>-1.133119e+00</td>\n",
       "      <td>-2.247392e-14</td>\n",
       "      <td>-3.735251e-14</td>\n",
       "      <td>-1.249689e-05</td>\n",
       "      <td>6.488857</td>\n",
       "      <td>-6.488637</td>\n",
       "      <td>6.487979</td>\n",
       "      <td>-6.486882</td>\n",
       "      <td>6.485346</td>\n",
       "      <td>-6.483372</td>\n",
       "      <td>6.480959</td>\n",
       "      <td>-6.478107</td>\n",
       "    </tr>\n",
       "  </tbody>\n",
       "</table>\n",
       "<p>191 rows × 13 columns</p>\n",
       "</div>"
      ],
      "text/plain": [
       "               0             1             2             3             4   \\\n",
       "0    1.180236e-14 -7.781773e-14  2.827377e-14  7.678016e-14  5.187849e-15   \n",
       "1   -8.559950e-15 -7.055474e-14 -1.400719e-14  6.847960e-14  1.099824e-13   \n",
       "2   -2.879256e-14 -6.640446e-14  1.010334e-13  5.758512e-14  5.162890e+00   \n",
       "3   -3.346162e-14 -3.994643e-14  3.011469e-01  5.583422e-14  2.684270e+01   \n",
       "4    5.187849e-15 -2.412350e-14  2.474755e+01  7.444563e-14  2.482296e+01   \n",
       "..            ...           ...           ...           ...           ...   \n",
       "186 -1.028194e-06 -1.924004e+01 -2.536980e-14 -7.336089e-14 -1.745941e-02   \n",
       "187 -2.023353e-07 -1.945026e+01 -4.850081e-14 -5.610337e-14 -4.555051e-03   \n",
       "188 -1.678181e-08 -9.688080e+00 -2.436652e-14 -7.011521e-14 -5.444394e-04   \n",
       "189 -3.095373e-09 -4.606665e+00 -9.515953e-15 -7.169034e-14 -1.241630e-04   \n",
       "190 -2.354030e-10 -1.133119e+00 -2.247392e-14 -3.735251e-14 -1.249689e-05   \n",
       "\n",
       "           5         6         7         8         9         10        11  \\\n",
       "0    6.488857  6.488637  6.487979  6.486882  6.485346  6.483372  6.480959   \n",
       "1    6.488857  6.487364  6.482886  6.475424  6.464983  6.451567  6.435182   \n",
       "2    6.488857  6.483325  6.466740  6.439130  6.400542  6.351042  6.290713   \n",
       "3    6.488857  6.479215  6.450318  6.402252  6.335159  6.249240  6.144748   \n",
       "4    6.488857  6.470924  6.417224  6.328055  6.203909  6.045472  5.853619   \n",
       "..        ...       ...       ...       ...       ...       ...       ...   \n",
       "186  6.488857 -6.477978  6.445377 -6.391163  6.315519 -6.218698  6.101024   \n",
       "187  6.488857 -6.482379  6.462959 -6.430634  6.385470 -6.327558  6.257011   \n",
       "188  6.488857 -6.486854  6.480847 -6.470840  6.456839 -6.438852  6.416891   \n",
       "189  6.488857 -6.488419  6.487105 -6.484916  6.481852 -6.477913  6.473099   \n",
       "190  6.488857 -6.488637  6.487979 -6.486882  6.485346 -6.483372  6.480959   \n",
       "\n",
       "           12  \n",
       "0    6.478107  \n",
       "1    6.415836  \n",
       "2    6.219659  \n",
       "3    6.021996  \n",
       "4    5.629413  \n",
       "..        ...  \n",
       "186 -5.962893  \n",
       "187 -6.173972  \n",
       "188 -6.390969  \n",
       "189 -6.467412  \n",
       "190 -6.478107  \n",
       "\n",
       "[191 rows x 13 columns]"
      ]
     },
     "execution_count": 20,
     "metadata": {},
     "output_type": "execute_result"
    }
   ],
   "source": [
    "design_matrices[0].di\n"
   ]
  },
  {
   "cell_type": "markdown",
   "metadata": {},
   "source": [
    "## :term:`GLM` estimation\n",
    ":term:`GLM` specification. Note that the mask was provided in the dataset.\n",
    "So we use it.\n",
    "\n"
   ]
  },
  {
   "cell_type": "code",
   "execution_count": 5,
   "metadata": {
    "collapsed": false,
    "jupyter": {
     "outputs_hidden": false
    }
   },
   "outputs": [],
   "source": [
    "from nilearn.glm.first_level import FirstLevelModel\n",
    "\n",
    "fmri_glm = FirstLevelModel(mask_img=data['mask'], minimize_memory=True)"
   ]
  },
  {
   "cell_type": "markdown",
   "metadata": {},
   "source": [
    "Let's fit the GLM.\n",
    "\n"
   ]
  },
  {
   "cell_type": "code",
   "execution_count": 6,
   "metadata": {
    "collapsed": false,
    "jupyter": {
     "outputs_hidden": false
    }
   },
   "outputs": [],
   "source": [
    "fmri_glm = fmri_glm.fit(fmri_img, design_matrices=design_matrices)"
   ]
  },
  {
   "cell_type": "markdown",
   "metadata": {},
   "source": [
    "Compute fixed effects of the two runs and compute related images.\n",
    "For this, we first define the contrasts as we would do for a single session.\n",
    "\n"
   ]
  },
  {
   "cell_type": "code",
   "execution_count": 21,
   "metadata": {
    "collapsed": false,
    "jupyter": {
     "outputs_hidden": false
    }
   },
   "outputs": [
    {
     "name": "stdout",
     "output_type": "stream",
     "text": [
      "13\n"
     ]
    }
   ],
   "source": [
    "n_columns = design_matrices[0].shape[1]\n",
    "print(n_columns)\n",
    "\n",
    "def pad_vector(contrast_, n_columns):\n",
    "    \"\"\"Append zeros in contrast vectors.\"\"\"\n",
    "    return np.hstack((contrast_, np.zeros(n_columns - len(contrast_))))"
   ]
  },
  {
   "cell_type": "markdown",
   "metadata": {},
   "source": [
    "Contrast specification\n",
    "\n"
   ]
  },
  {
   "cell_type": "code",
   "execution_count": 8,
   "metadata": {
    "collapsed": false,
    "jupyter": {
     "outputs_hidden": false
    }
   },
   "outputs": [],
   "source": [
    "contrasts = {'SStSSp_minus_DStDSp': pad_vector([1, 0, 0, -1], n_columns),\n",
    "             'DStDSp_minus_SStSSp': pad_vector([-1, 0, 0, 1], n_columns),\n",
    "             'DSt_minus_SSt': pad_vector([-1, -1, 1, 1], n_columns),\n",
    "             'DSp_minus_SSp': pad_vector([-1, 1, -1, 1], n_columns),\n",
    "             'DSt_minus_SSt_for_DSp': pad_vector([0, -1, 0, 1], n_columns),\n",
    "             'DSp_minus_SSp_for_DSt': pad_vector([0, 0, -1, 1], n_columns),\n",
    "             'Deactivation': pad_vector([-1, -1, -1, -1, 4], n_columns),\n",
    "             'Effects_of_interest': np.eye(n_columns)[:5]}"
   ]
  },
  {
   "cell_type": "markdown",
   "metadata": {},
   "source": [
    "Next, we compute and plot the statistics.\n",
    "\n"
   ]
  },
  {
   "cell_type": "code",
   "execution_count": 9,
   "metadata": {
    "collapsed": false,
    "jupyter": {
     "outputs_hidden": false
    }
   },
   "outputs": [
    {
     "name": "stdout",
     "output_type": "stream",
     "text": [
      "Computing contrasts...\n",
      "  Contrast  1 out of 8: SStSSp_minus_DStDSp\n",
      "  Contrast  2 out of 8: DStDSp_minus_SStSSp\n"
     ]
    },
    {
     "name": "stderr",
     "output_type": "stream",
     "text": [
      "/projectnb/viscog01/venvs/wen_env/bin/python/lib/python3.10/site-packages/nilearn/glm/first_level/first_level.py:799: UserWarning: One contrast given, assuming it for all 2 runs\n",
      "  warn(f\"One contrast given, assuming it for all {int(n_runs)} runs\")\n"
     ]
    },
    {
     "name": "stdout",
     "output_type": "stream",
     "text": [
      "  Contrast  3 out of 8: DSt_minus_SSt\n",
      "  Contrast  4 out of 8: DSp_minus_SSp\n",
      "  Contrast  5 out of 8: DSt_minus_SSt_for_DSp\n",
      "  Contrast  6 out of 8: DSp_minus_SSp_for_DSt\n",
      "  Contrast  7 out of 8: Deactivation\n",
      "  Contrast  8 out of 8: Effects_of_interest\n"
     ]
    },
    {
     "name": "stderr",
     "output_type": "stream",
     "text": [
      "/projectnb/viscog01/venvs/wen_env/bin/python/lib/python3.10/site-packages/nilearn/glm/contrasts.py:381: UserWarning: Running approximate fixed effects on F statistics.\n",
      "  warn(\"Running approximate fixed effects on F statistics.\")\n"
     ]
    }
   ],
   "source": [
    "from nilearn import plotting\n",
    "\n",
    "print('Computing contrasts...')\n",
    "for index, (contrast_id, contrast_val) in enumerate(contrasts.items()):\n",
    "    print(f\"  Contrast {index + 1: 2} out of {len(contrasts)}: {contrast_id}\")\n",
    "    # Estimate the contasts. Note that the model implicitly computes a fixed\n",
    "    # effect across the two sessions\n",
    "    z_map = fmri_glm.compute_contrast(\n",
    "        contrast_val, output_type='z_score')\n",
    "\n",
    "    # write the resulting stat images to file\n",
    "    z_image_path = path.join(write_dir, f'{contrast_id}_z_map.nii.gz')\n",
    "    z_map.to_filename(z_image_path)"
   ]
  },
  {
   "cell_type": "markdown",
   "metadata": {},
   "source": [
    "We can then compare session-specific and fixed effects.\n",
    "Here, we compare the activation mas produced from each session separately and\n",
    "then the fixed effects version.\n",
    "\n"
   ]
  },
  {
   "cell_type": "code",
   "execution_count": 10,
   "metadata": {
    "collapsed": false,
    "jupyter": {
     "outputs_hidden": false
    }
   },
   "outputs": [],
   "source": [
    "contrast_id = 'Effects_of_interest'"
   ]
  },
  {
   "cell_type": "markdown",
   "metadata": {},
   "source": [
    "Compute the statistics for the first session.\n",
    "\n"
   ]
  },
  {
   "cell_type": "code",
   "execution_count": 11,
   "metadata": {
    "collapsed": false,
    "jupyter": {
     "outputs_hidden": false
    }
   },
   "outputs": [
    {
     "data": {
      "text/plain": [
       "<nilearn.plotting.displays._slicers.OrthoSlicer at 0x148742bafc70>"
      ]
     },
     "execution_count": 11,
     "metadata": {},
     "output_type": "execute_result"
    },
    {
     "data": {
      "image/png": "[encoded data removed]",
      "text/plain": [
       "<Figure size 730x350 with 5 Axes>"
      ]
     },
     "metadata": {},
     "output_type": "display_data"
    }
   ],
   "source": [
    "fmri_glm = fmri_glm.fit(fmri_img[0], design_matrices=design_matrices[0])\n",
    "z_map = fmri_glm.compute_contrast(\n",
    "    contrasts[contrast_id], output_type='z_score')\n",
    "plotting.plot_stat_map(\n",
    "    z_map, bg_img=mean_img_, threshold=3.0,\n",
    "    title=f'{contrast_id}, first session')"
   ]
  },
  {
   "cell_type": "markdown",
   "metadata": {},
   "source": [
    "Compute the statistics for the second session.\n",
    "\n"
   ]
  },
  {
   "cell_type": "code",
   "execution_count": 12,
   "metadata": {
    "collapsed": false,
    "jupyter": {
     "outputs_hidden": false
    }
   },
   "outputs": [
    {
     "data": {
      "text/plain": [
       "<nilearn.plotting.displays._slicers.OrthoSlicer at 0x1487426feb30>"
      ]
     },
     "execution_count": 12,
     "metadata": {},
     "output_type": "execute_result"
    },
    {
     "data": {
      "image/png": "[encoded data removed]",
      "text/plain": [
       "<Figure size 730x350 with 5 Axes>"
      ]
     },
     "metadata": {},
     "output_type": "display_data"
    }
   ],
   "source": [
    "fmri_glm = fmri_glm.fit(fmri_img[1], design_matrices=design_matrices[1])\n",
    "z_map = fmri_glm.compute_contrast(\n",
    "    contrasts[contrast_id], output_type='z_score')\n",
    "plotting.plot_stat_map(\n",
    "    z_map, bg_img=mean_img_, threshold=3.0,\n",
    "    title=f'{contrast_id}, second session')"
   ]
  },
  {
   "cell_type": "markdown",
   "metadata": {},
   "source": [
    "Compute the Fixed effects statistics.\n",
    "\n"
   ]
  },
  {
   "cell_type": "code",
   "execution_count": 13,
   "metadata": {
    "collapsed": false,
    "jupyter": {
     "outputs_hidden": false
    }
   },
   "outputs": [
    {
     "name": "stderr",
     "output_type": "stream",
     "text": [
      "/projectnb/viscog01/venvs/wen_env/bin/python/lib/python3.10/site-packages/nilearn/glm/first_level/first_level.py:799: UserWarning: One contrast given, assuming it for all 2 runs\n",
      "  warn(f\"One contrast given, assuming it for all {int(n_runs)} runs\")\n",
      "/projectnb/viscog01/venvs/wen_env/bin/python/lib/python3.10/site-packages/nilearn/glm/contrasts.py:381: UserWarning: Running approximate fixed effects on F statistics.\n",
      "  warn(\"Running approximate fixed effects on F statistics.\")\n"
     ]
    },
    {
     "data": {
      "image/png": "[encoded data removed]",
      "text/plain": [
       "<Figure size 730x350 with 5 Axes>"
      ]
     },
     "metadata": {},
     "output_type": "display_data"
    }
   ],
   "source": [
    "fmri_glm = fmri_glm.fit(fmri_img, design_matrices=design_matrices)\n",
    "z_map = fmri_glm.compute_contrast(\n",
    "    contrasts[contrast_id], output_type='z_score')\n",
    "plotting.plot_stat_map(\n",
    "    z_map, bg_img=mean_img_, threshold=3.0,\n",
    "    title=f'{contrast_id}, fixed effects')\n",
    "\n",
    "plotting.show()"
   ]
  },
  {
   "cell_type": "markdown",
   "metadata": {},
   "source": [
    "Not unexpectedly, the fixed effects version displays higher peaks than the\n",
    "input sessions. Computing fixed effects enhances the signal-to-noise ratio of\n",
    "the resulting brain maps.\n",
    "\n"
   ]
  },
  {
   "cell_type": "markdown",
   "metadata": {},
   "source": [
    "## Generating a report\n",
    "Since we have already computed the FirstLevelModel and\n",
    "and have the contrast, we can quickly create a summary report.\n",
    "\n"
   ]
  },
  {
   "cell_type": "code",
   "execution_count": 14,
   "metadata": {
    "collapsed": false,
    "jupyter": {
     "outputs_hidden": false
    }
   },
   "outputs": [
    {
     "name": "stderr",
     "output_type": "stream",
     "text": [
      "/projectnb/viscog01/venvs/wen_env/bin/python/lib/python3.10/site-packages/nilearn/glm/first_level/first_level.py:799: UserWarning: One contrast given, assuming it for all 2 runs\n",
      "  warn(f\"One contrast given, assuming it for all {int(n_runs)} runs\")\n",
      "/projectnb/viscog01/venvs/wen_env/bin/python/lib/python3.10/site-packages/nilearn/glm/contrasts.py:381: UserWarning: Running approximate fixed effects on F statistics.\n",
      "  warn(\"Running approximate fixed effects on F statistics.\")\n"
     ]
    }
   ],
   "source": [
    "from nilearn.reporting import make_glm_report\n",
    "\n",
    "report = make_glm_report(fmri_glm,\n",
    "                         contrasts,\n",
    "                         bg_img=mean_img_,\n",
    "                         )"
   ]
  },
  {
   "cell_type": "markdown",
   "metadata": {},
   "source": [
    "We have several ways to access the report:\n",
    "\n"
   ]
  },
  {
   "cell_type": "code",
   "execution_count": 15,
   "metadata": {
    "collapsed": false,
    "jupyter": {
     "outputs_hidden": false
    }
   },
   "outputs": [],
   "source": [
    "# report  # This report can be viewed in a notebook\n",
    "# report.save_as_html('report.html')\n",
    "# report.open_in_browser()"
   ]
  }
 ],
 "metadata": {
  "kernelspec": {
   "display_name": "Python 3 (ipykernel)",
   "language": "python",
   "name": "python3"
  },
  "language_info": {
   "codemirror_mode": {
    "name": "ipython",
    "version": 3
   },
   "file_extension": ".py",
   "mimetype": "text/x-python",
   "name": "python",
   "nbconvert_exporter": "python",
   "pygments_lexer": "ipython3",
   "version": "3.10.12"
  }
 },
 "nbformat": 4,
 "nbformat_minor": 4
}
